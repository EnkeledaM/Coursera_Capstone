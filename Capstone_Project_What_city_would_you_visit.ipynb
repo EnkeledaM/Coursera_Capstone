{
 "cells": [
  {
   "cell_type": "markdown",
   "metadata": {},
   "source": [
    "# Capstone Project - Final Assignment\n",
    "## If you have time to visit one city in the Netherlands?"
   ]
  },
  {
   "cell_type": "markdown",
   "metadata": {},
   "source": [
    "## Table of Contents\n",
    "\n",
    "<div class=\"alert alert-block alert-info\" style=\"margin-top: 20px\">\n",
    "<font size = 3>\n",
    "\n",
    "1. <a href=\"#section1\">Introduction</a>\n",
    "2. <a href=\"#section2\">Objective</a>\n",
    "3. <a href=\"#section3\">Data</a>\n",
    "\n",
    "</font>\n",
    "</div>"
   ]
  },
  {
   "cell_type": "markdown",
   "metadata": {},
   "source": [
    "<a id=\"section1\"></a>\n",
    "## 1. Introduction"
   ]
  },
  {
   "cell_type": "markdown",
   "metadata": {},
   "source": [
    "The Netherlands is a great country to visit for a short break or a longer holiday. And there are many nice cities known for their restaurants, nightlife, museums, market, squares and parks. So deciding which Netherlands city to visit can be difficult. Especially, if you have time to visit one city. What city would you visit?\n",
    "\n",
    "The aim of this project is to collect data and provide a recommendation to people who wants to visit the Netherlands for a short stay. The recommendation are a help to make a decision which city to visit in the Netherlands. They can choose a city by venue type, tips of venues and popular places.\n",
    "\n",
    "According to the website https://www.holland.com/global/tourism.htm the most popular destinations in the Netherlands are:\n",
    "\n",
    "| City      | LAT | LONG\n",
    "| ----------| ----------| ----------|\n",
    "Amsterdam\t\n",
    "Leeuwarden\t\n",
    "Arnhem\t\n",
    "Gouda\n",
    "Rotterdam\t\n",
    "Leiden\t\n",
    "Breda\t\n",
    "Groningen\n",
    "The Hague\t\n",
    "Haarlem\t\n",
    "Delft\t\n",
    "Utrecht\t\n",
    "Volendam\t\n",
    "Den Bosch\t\n",
    "Maastricht\t\n",
    "Alkmaar\t\n",
    "Eindhoven\t\n",
    "Nijmegen\t\n",
    "Roermond\t\n",
    "Scheveningen\n",
    "\n"
   ]
  },
  {
   "cell_type": "markdown",
   "metadata": {},
   "source": [
    "<a id=\"section2\"></a>\n",
    "## 2. Objective"
   ]
  },
  {
   "cell_type": "markdown",
   "metadata": {},
   "source": [
    "The objective of this project is to compare the above 20 cities and determine how similar or dissimilar they are. The aim is to determine:\n",
    "\n",
    "1. The similarity or dissimilarity of the 20 cities in the Netherlands based on tourism venues like; events, food, outdoors & recreation, shop & service, and travel & transport:  \n",
    "        a. What are the most common venues types (venues count)  \n",
    "        b. What are the recommending scores of the top 10 venues based on ‘ratings’.  \n",
    "    \n",
    "2. Clusters these 20 cities performing a K-means clustering. "
   ]
  },
  {
   "cell_type": "markdown",
   "metadata": {},
   "source": [
    "<a id=\"section3\"></a>\n",
    "## 3. Data"
   ]
  },
  {
   "cell_type": "markdown",
   "metadata": {},
   "source": [
    "For this project the data of foursquare (website: www.foursquare.com) will be used for information about venues, tips and check-ins. The Foursquare explore function will be used to get the most common venue categories in each city, and then use this feature to group the cities into clusters. Another venue query will be performed to retrieve venue ratings for each city to find the most popular places. Note that there is max query limit of 50 ratings in FourSquare API for free subscription."
   ]
  },
  {
   "cell_type": "code",
   "execution_count": null,
   "metadata": {},
   "outputs": [],
   "source": []
  }
 ],
 "metadata": {
  "kernelspec": {
   "display_name": "Python [conda env:Beeldherkenning]",
   "language": "python",
   "name": "conda-env-Beeldherkenning-py"
  },
  "language_info": {
   "codemirror_mode": {
    "name": "ipython",
    "version": 3
   },
   "file_extension": ".py",
   "mimetype": "text/x-python",
   "name": "python",
   "nbconvert_exporter": "python",
   "pygments_lexer": "ipython3",
   "version": "3.6.8"
  }
 },
 "nbformat": 4,
 "nbformat_minor": 2
}
